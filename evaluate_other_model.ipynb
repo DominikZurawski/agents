{
 "cells": [
  {
   "cell_type": "markdown",
   "metadata": {},
   "source": [
    "## Evaluate answers give by other model\n",
    "\n",
    "In the folder `me` I've put a single file `linkedin.pdf` - it's a PDF download of my LinkedIn profile.\n",
    "\n",
    "I've also made a file called `summary.txt`\n"
   ]
  },
  {
   "cell_type": "code",
   "execution_count": 3,
   "metadata": {},
   "outputs": [],
   "source": [
    "from dotenv import load_dotenv\n",
    "from openai import OpenAI\n",
    "from pypdf import PdfReader\n",
    "import gradio as gr"
   ]
  },
  {
   "cell_type": "code",
   "execution_count": 4,
   "metadata": {},
   "outputs": [],
   "source": [
    "load_dotenv(override=True)\n",
    "openai = OpenAI()"
   ]
  },
  {
   "cell_type": "code",
   "execution_count": 6,
   "metadata": {},
   "outputs": [],
   "source": [
    "reader = PdfReader(\"me/linkedin.pdf\")\n",
    "linkedin = \"\"\n",
    "for page in reader.pages:\n",
    "    text = page.extract_text()\n",
    "    if text:\n",
    "        linkedin += text"
   ]
  },
  {
   "cell_type": "code",
   "execution_count": 4,
   "metadata": {},
   "outputs": [
    {
     "name": "stdout",
     "output_type": "stream",
     "text": [
      "   \n",
      "Kontakt\n",
      "dominikzurawski15@gmail.com\n",
      "www.linkedin.com/in/dominik-\n",
      "zurawski (LinkedIn)\n",
      "github.com/DominikZurawski\n",
      "(Other)\n",
      "Główne umiejętności\n",
      "LLM\n",
      "PyTorch\n",
      "Django\n",
      "Certifications\n",
      "Python for Data Science\n",
      "Język C. Poziom ekspert.\n",
      "Dive Into Ansible - Beginner to\n",
      "Expert in Ansible - DevOps\n",
      "Advanced CSS and Sass: Flexbox,\n",
      "Grid, Animations and More!\n",
      "Zaawansowane programowanie w\n",
      "języku C\n",
      "Dominik Żurawski\n",
      "Programista Python w RemmedVR\n",
      "Polska\n",
      "Doświadczenie\n",
      "RemmedVR\n",
      "Programista Python\n",
      "lutego 2020 - sierpnia 2020 (7 mies.)\n",
      "Warszawa, Woj. Mazowieckie, Polska\n",
      "- Oprogramowanie systemów wizyjnych\n",
      "- Konfiguracja i montaż optoelektronicznych stanowisk pomiarowych\n",
      "- Wykonywanie pomiarów i analiza danych\n",
      "Capgemini\n",
      "Programmer Analyst Trainee\n",
      "listopada 2018 - kwietnia 2019 (6 mies.)\n",
      "Warszawa, woj. mazowieckie, Polska\n",
      "Praca z wykorzystaniem narzędzi do projektowania procesów biznesowych\n",
      "IBM Case Manager, IBM Case Navigator oraz pisanie skryptów w języku\n",
      "Javascript. \n",
      "Obowiązki: \n",
      "-Udział w spotkaniach i warsztatach projektowych \n",
      "-Wsparcie procesu wytwarzania dokumentacji projektowej \n",
      "-Wsparcie zespołu w bieżących pracach projektowych.\n",
      "IBM\n",
      "Stażysta\n",
      "lipca 2018 - października 2018 (4 mies.)\n",
      "Warszawa, woj. mazowieckie, Polska\n",
      "Praca z programami biznesowymi IBM Datacap, IBM Case\n",
      "Manager, IBM Content Navigator oraz wykonanie aplikacji REST\n",
      "przy pomocy platformy Node-RED i chatbota Watson Assistant do\n",
      "komunikacji z IBM Case Manager.\n",
      "Wykształcenie\n",
      "Zero To Mastery Academy\n",
      " · (kwietnia 2025)\n",
      "  Page 1 of 2   \n",
      "Wojskowa Akademia Techniczna w Warszawie\n",
      "Optoelektronika, Specjalizacja Inżyniera Kosmiczna i\n",
      "Satelitarna · (2019 - 2020)\n",
      "Wojskowa Akademia Techniczna w Warszawie\n",
      "Inżynier (Inż.), Elektronika i Telekomunikacja, specjalizacja Systemy\n",
      "Teleinformatyczne · (2013 - 2019)\n",
      "  Page 2 of 2\n"
     ]
    }
   ],
   "source": [
    "print(linkedin)"
   ]
  },
  {
   "cell_type": "code",
   "execution_count": 7,
   "metadata": {},
   "outputs": [],
   "source": [
    "with open(\"me/summary.txt\", \"r\", encoding=\"utf-8\") as f:\n",
    "    summary = f.read()"
   ]
  },
  {
   "cell_type": "code",
   "execution_count": 8,
   "metadata": {},
   "outputs": [],
   "source": [
    "name = \"Dominik Żurawski\""
   ]
  },
  {
   "cell_type": "code",
   "execution_count": 9,
   "metadata": {},
   "outputs": [],
   "source": [
    "system_prompt = f\"You are acting as {name}. You are answering questions on {name}'s website, \\\n",
    "particularly questions related to {name}'s career, background, skills and experience. \\\n",
    "Your responsibility is to represent {name} for interactions on the website as faithfully as possible. \\\n",
    "You are given a summary of {name}'s background and LinkedIn profile which you can use to answer questions. \\\n",
    "Be professional and engaging, as if talking to a potential client or future employer who came across the website. \\\n",
    "If you don't know the answer, say so.\"\n",
    "\n",
    "system_prompt += f\"\\n\\n## Summary:\\n{summary}\\n\\n## LinkedIn Profile:\\n{linkedin}\\n\\n\"\n",
    "system_prompt += f\"With this context, please chat with the user, always staying in character as {name}.\"\n"
   ]
  },
  {
   "cell_type": "code",
   "execution_count": 8,
   "metadata": {},
   "outputs": [
    {
     "data": {
      "text/plain": [
       "\"You are acting as Dominik Żurawski. You are answering questions on Dominik Żurawski's website, particularly questions related to Dominik Żurawski's career, background, skills and experience. Your responsibility is to represent Dominik Żurawski for interactions on the website as faithfully as possible. You are given a summary of Dominik Żurawski's background and LinkedIn profile which you can use to answer questions. Be professional and engaging, as if talking to a potential client or future employer who came across the website. If you don't know the answer, say so.\\n\\n## Summary:\\nMy name is Dominik Żurawski. I'm an entrepreneur, software engineer and data scientist. I'm from Poland.\\nI love all foods, particularly Mediterranean food and Asian food.\\n\\n## LinkedIn Profile:\\n\\xa0 \\xa0\\nKontakt\\ndominikzurawski15@gmail.com\\nwww.linkedin.com/in/dominik-\\nzurawski (LinkedIn)\\ngithub.com/DominikZurawski\\n(Other)\\nGłówne umiejętności\\nLLM\\nPyTorch\\nDjango\\nCertifications\\nPython for Data Science\\nJęzyk C. Poziom ekspert.\\nDive Into Ansible - Beginner to\\nExpert in Ansible - DevOps\\nAdvanced CSS and Sass: Flexbox,\\nGrid, Animations and More!\\nZaawansowane programowanie w\\njęzyku C\\nDominik Żurawski\\nProgramista Python w RemmedVR\\nPolska\\nDoświadczenie\\nRemmedVR\\nProgramista Python\\nlutego 2020\\xa0-\\xa0sierpnia 2020\\xa0(7 mies.)\\nWarszawa, Woj. Mazowieckie, Polska\\n- Oprogramowanie systemów wizyjnych\\n- Konfiguracja i montaż optoelektronicznych stanowisk pomiarowych\\n- Wykonywanie pomiarów i analiza danych\\nCapgemini\\nProgrammer Analyst Trainee\\nlistopada 2018\\xa0-\\xa0kwietnia 2019\\xa0(6 mies.)\\nWarszawa, woj. mazowieckie, Polska\\nPraca z wykorzystaniem narzędzi do projektowania procesów biznesowych\\nIBM Case Manager, IBM Case Navigator oraz pisanie skryptów w języku\\nJavascript. \\nObowiązki: \\n-Udział w spotkaniach i warsztatach projektowych \\n-Wsparcie procesu wytwarzania dokumentacji projektowej \\n-Wsparcie zespołu w bieżących pracach projektowych.\\nIBM\\nStażysta\\nlipca 2018\\xa0-\\xa0października 2018\\xa0(4 mies.)\\nWarszawa, woj. mazowieckie, Polska\\nPraca z programami biznesowymi IBM Datacap, IBM Case\\nManager, IBM Content Navigator oraz wykonanie aplikacji REST\\nprzy pomocy platformy Node-RED i chatbota Watson Assistant do\\nkomunikacji z IBM Case Manager.\\nWykształcenie\\nZero To Mastery Academy\\n\\xa0·\\xa0(kwietnia 2025)\\n\\xa0 Page 1 of 2\\xa0 \\xa0\\nWojskowa Akademia Techniczna w Warszawie\\nOptoelektronika, Specjalizacja Inżyniera Kosmiczna i\\nSatelitarna\\xa0·\\xa0(2019\\xa0-\\xa02020)\\nWojskowa Akademia Techniczna w Warszawie\\nInżynier (Inż.),\\xa0Elektronika i Telekomunikacja, specjalizacja Systemy\\nTeleinformatyczne\\xa0·\\xa0(2013\\xa0-\\xa02019)\\n\\xa0 Page 2 of 2\\n\\nWith this context, please chat with the user, always staying in character as Dominik Żurawski.\""
      ]
     },
     "execution_count": 8,
     "metadata": {},
     "output_type": "execute_result"
    }
   ],
   "source": [
    "system_prompt"
   ]
  },
  {
   "cell_type": "code",
   "execution_count": 10,
   "metadata": {},
   "outputs": [],
   "source": [
    "def chat(message, history):\n",
    "    messages = [{\"role\": \"system\", \"content\": system_prompt}] + history + [{\"role\": \"user\", \"content\": message}]\n",
    "    response = openai.chat.completions.create(model=\"gpt-4o-mini\", messages=messages)\n",
    "    return response.choices[0].message.content"
   ]
  },
  {
   "cell_type": "code",
   "execution_count": null,
   "metadata": {},
   "outputs": [],
   "source": [
    "gr.ChatInterface(chat, type=\"messages\").launch()"
   ]
  },
  {
   "cell_type": "markdown",
   "metadata": {},
   "source": [
    "## Evaluating\n",
    "\n",
    "1. Be able to ask an LLM to evaluate an answer\n",
    "2. Be able to rerun if the answer fails evaluation\n",
    "3. Put this together into 1 workflow\n"
   ]
  },
  {
   "cell_type": "code",
   "execution_count": 11,
   "metadata": {},
   "outputs": [],
   "source": [
    "# Create a Pydantic model for the Evaluation\n",
    "\n",
    "from pydantic import BaseModel\n",
    "\n",
    "class Evaluation(BaseModel):\n",
    "    is_acceptable: bool\n",
    "    feedback: str\n"
   ]
  },
  {
   "cell_type": "code",
   "execution_count": 14,
   "metadata": {},
   "outputs": [],
   "source": [
    "evaluator_system_prompt = f\"You are an evaluator that decides whether a response to a question is acceptable. \\\n",
    "You are provided with a conversation between a User and an Agent. Your task is to decide whether the Agent's latest response is acceptable quality. \\\n",
    "The Agent is playing the role of {name} and is representing {name} on their website. \\\n",
    "The Agent has been instructed to be professional and engaging, as if talking to a potential client or future employer who came across the website. \\\n",
    "The Agent has been provided with context on {name} in the form of their summary and LinkedIn details. Here's the information:\"\n",
    "\n",
    "evaluator_system_prompt += f\"\\n\\n## Summary:\\n{summary}\\n\\n## LinkedIn Profile:\\n{linkedin}\\n\\n\"\n",
    "evaluator_system_prompt += f\"With this context, please evaluate the latest response, replying with whether the response is acceptable and your feedback.\""
   ]
  },
  {
   "cell_type": "code",
   "execution_count": 15,
   "metadata": {},
   "outputs": [],
   "source": [
    "def evaluator_user_prompt(reply, message, history):\n",
    "    user_prompt = f\"Here's the conversation between the User and the Agent: \\n\\n{history}\\n\\n\"\n",
    "    user_prompt += f\"Here's the latest message from the User: \\n\\n{message}\\n\\n\"\n",
    "    user_prompt += f\"Here's the latest response from the Agent: \\n\\n{reply}\\n\\n\"\n",
    "    user_prompt += f\"Please evaluate the response, replying with whether it is acceptable and your feedback.\"\n",
    "    return user_prompt"
   ]
  },
  {
   "cell_type": "code",
   "execution_count": 16,
   "metadata": {},
   "outputs": [],
   "source": [
    "import os\n",
    "gemini = OpenAI(\n",
    "    api_key=os.getenv(\"GOOGLE_API_KEY\"),\n",
    "    base_url=\"https://generativelanguage.googleapis.com/v1beta/openai/\"\n",
    ")"
   ]
  },
  {
   "cell_type": "code",
   "execution_count": 17,
   "metadata": {},
   "outputs": [],
   "source": [
    "def evaluate(reply, message, history) -> Evaluation:\n",
    "\n",
    "    messages = [{\"role\": \"system\", \"content\": evaluator_system_prompt}] + [{\"role\": \"user\", \"content\": evaluator_user_prompt(reply, message, history)}]\n",
    "    response = gemini.beta.chat.completions.parse(model=\"gemini-2.0-flash\", messages=messages, response_format=Evaluation)\n",
    "    return response.choices[0].message.parsed"
   ]
  },
  {
   "cell_type": "code",
   "execution_count": 18,
   "metadata": {},
   "outputs": [],
   "source": [
    "messages = [{\"role\": \"system\", \"content\": system_prompt}] + [{\"role\": \"user\", \"content\": \"do you hold a patent?\"}]\n",
    "response = openai.chat.completions.create(model=\"gpt-4o-mini\", messages=messages)\n",
    "reply = response.choices[0].message.content"
   ]
  },
  {
   "cell_type": "code",
   "execution_count": 17,
   "metadata": {},
   "outputs": [
    {
     "data": {
      "text/plain": [
       "'I do not currently hold a patent. My focus has primarily been on software engineering, data science, and entrepreneurial activities. If you have any questions about my projects or experience, feel free to ask!'"
      ]
     },
     "execution_count": 17,
     "metadata": {},
     "output_type": "execute_result"
    }
   ],
   "source": [
    "reply"
   ]
  },
  {
   "cell_type": "code",
   "execution_count": 18,
   "metadata": {},
   "outputs": [
    {
     "data": {
      "text/plain": [
       "Evaluation(is_acceptable=True, feedback='The response is acceptable. It is a truthful answer based on the information available and ends with an invitation to ask more questions which is a good way to keep the conversation going.')"
      ]
     },
     "execution_count": 18,
     "metadata": {},
     "output_type": "execute_result"
    }
   ],
   "source": [
    "evaluate(reply, \"do you hold a patent?\", messages[:1])"
   ]
  },
  {
   "cell_type": "code",
   "execution_count": 19,
   "metadata": {},
   "outputs": [],
   "source": [
    "def rerun(reply, message, history, feedback):\n",
    "    updated_system_prompt = system_prompt + f\"\\n\\n## Previous answer rejected\\nYou just tried to reply, but the quality control rejected your reply\\n\"\n",
    "    updated_system_prompt += f\"## Your attempted answer:\\n{reply}\\n\\n\"\n",
    "    updated_system_prompt += f\"## Reason for rejection:\\n{feedback}\\n\\n\"\n",
    "    messages = [{\"role\": \"system\", \"content\": updated_system_prompt}] + history + [{\"role\": \"user\", \"content\": message}]\n",
    "    response = openai.chat.completions.create(model=\"gpt-4o-mini\", messages=messages)\n",
    "    return response.choices[0].message.content"
   ]
  },
  {
   "cell_type": "code",
   "execution_count": 20,
   "metadata": {},
   "outputs": [],
   "source": [
    "def chat(message, history):\n",
    "    if \"patent\" in message:\n",
    "        system = system_prompt + \"\\n\\nEverything in your reply needs to be in pig latin - \\\n",
    "              it is mandatory that you respond only and entirely in pig latin\"\n",
    "    else:\n",
    "        system = system_prompt\n",
    "    messages = [{\"role\": \"system\", \"content\": system}] + history + [{\"role\": \"user\", \"content\": message}]\n",
    "    response = openai.chat.completions.create(model=\"gpt-4o-mini\", messages=messages)\n",
    "    reply =response.choices[0].message.content\n",
    "\n",
    "    evaluation = evaluate(reply, message, history)\n",
    "\n",
    "    if evaluation.is_acceptable:\n",
    "        print(\"Passed evaluation - returning reply\")\n",
    "    else:\n",
    "        print(\"Failed evaluation - retrying\")\n",
    "        print(evaluation.feedback)\n",
    "        reply = rerun(reply, message, history, evaluation.feedback)\n",
    "    return reply"
   ]
  },
  {
   "cell_type": "code",
   "execution_count": null,
   "metadata": {},
   "outputs": [
    {
     "name": "stdout",
     "output_type": "stream",
     "text": [
      "* Running on local URL:  http://127.0.0.1:7862\n",
      "* To create a public link, set `share=True` in `launch()`.\n"
     ]
    },
    {
     "data": {
      "text/html": [
       "<div><iframe src=\"http://127.0.0.1:7862/\" width=\"100%\" height=\"500\" allow=\"autoplay; camera; microphone; clipboard-read; clipboard-write;\" frameborder=\"0\" allowfullscreen></iframe></div>"
      ],
      "text/plain": [
       "<IPython.core.display.HTML object>"
      ]
     },
     "metadata": {},
     "output_type": "display_data"
    },
    {
     "data": {
      "text/plain": []
     },
     "execution_count": 21,
     "metadata": {},
     "output_type": "execute_result"
    },
    {
     "name": "stdout",
     "output_type": "stream",
     "text": [
      "Passed evaluation - returning reply\n",
      "Failed evaluation - retrying\n",
      "The Agent's response is in Pig Latin. The Agent is supposed to be representing Dominik Żurawski and acting professionally. This response is unprofessional and unhelpful.\n"
     ]
    }
   ],
   "source": [
    "gr.ChatInterface(chat, type=\"messages\").launch()"
   ]
  }
 ],
 "metadata": {
  "kernelspec": {
   "display_name": ".venv",
   "language": "python",
   "name": "python3"
  },
  "language_info": {
   "codemirror_mode": {
    "name": "ipython",
    "version": 3
   },
   "file_extension": ".py",
   "mimetype": "text/x-python",
   "name": "python",
   "nbconvert_exporter": "python",
   "pygments_lexer": "ipython3",
   "version": "3.12.3"
  }
 },
 "nbformat": 4,
 "nbformat_minor": 2
}
